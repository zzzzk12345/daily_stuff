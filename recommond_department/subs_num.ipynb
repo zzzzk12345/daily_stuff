{
 "cells": [
  {
   "cell_type": "code",
   "execution_count": 3,
   "metadata": {},
   "outputs": [],
   "source": [
    "import numpy as np\n",
    "import pandas as pd"
   ]
  },
  {
   "cell_type": "markdown",
   "metadata": {},
   "source": [
    "# 读取三张表格"
   ]
  },
  {
   "cell_type": "code",
   "execution_count": 4,
   "metadata": {
    "scrolled": true
   },
   "outputs": [
    {
     "name": "stdout",
     "output_type": "stream",
     "text": [
      "Index(['room_id', 'room_id.block', 'room_id.block_id', 'mobiles.mobile',\n",
      "       'mobiles.score', 'mobiles.score1', 'mobiles.score2',\n",
      "       'mobiles.plan_months', 'mobiles.app_price', 'mobiles.dx_price',\n",
      "       'mobiles.price', 'mobiles.app_poiblock1', 'mobiles.app_poiblock2',\n",
      "       'mobiles.poiblock1', 'mobiles.poiblock2', 'mobiles.rent_type',\n",
      "       'mobiles.dx_rent_type', 'str', 'judge'],\n",
      "      dtype='object')\n"
     ]
    }
   ],
   "source": [
    "prob_matching = pd.read_csv('./csv/df_al_block200.csv',\n",
    "                                header=0)\n",
    "print(prob_matching.columns)"
   ]
  },
  {
   "cell_type": "code",
   "execution_count": 5,
   "metadata": {},
   "outputs": [
    {
     "name": "stdout",
     "output_type": "stream",
     "text": [
      "Index(['sub1', 'sub2', 'nums'], dtype='object')\n"
     ]
    }
   ],
   "source": [
    "sub2sub = pd.read_csv('./csv/subway_station.csv',\n",
    "                          header=None,\n",
    "                          names=['sub1','sub2','nums'])\n",
    "print(sub2sub.columns)"
   ]
  },
  {
   "cell_type": "code",
   "execution_count": 6,
   "metadata": {},
   "outputs": [
    {
     "name": "stdout",
     "output_type": "stream",
     "text": [
      "Index(['id', 'name', 'lng_lat'], dtype='object')\n"
     ]
    },
    {
     "name": "stderr",
     "output_type": "stream",
     "text": [
      "/anaconda3/lib/python3.6/site-packages/ipykernel_launcher.py:6: UserWarning: Boolean Series key will be reindexed to match DataFrame index.\n",
      "  \n"
     ]
    }
   ],
   "source": [
    "sub_info = pd.read_csv('./csv/subways.csv',\n",
    "                           header=None,\n",
    "                           names = ['id', 'city', 'name', 'lng_lat', 'lines', 'nearby', 'transference',\n",
    "                                   'created_at', 'updated_at', 'construction_status', 'open_time','status'])\n",
    "\n",
    "sub_info = sub_info[1:][['id','name','lng_lat']][sub_info['city']=='北京市']\n",
    "print(sub_info.columns)"
   ]
  },
  {
   "cell_type": "markdown",
   "metadata": {},
   "source": [
    "# 功能函数\n",
    "## 逻辑：\n",
    "        根据推荐的商圈名称找到对应的地铁id\n",
    "        在根据room_id和刚刚查到的地铁id，找到两个地铁之间的站数"
   ]
  },
  {
   "cell_type": "code",
   "execution_count": 86,
   "metadata": {},
   "outputs": [],
   "source": [
    "# 通过商圈名称找到地铁id\n",
    "def get_both_id(prob_matching,sub_info):\n",
    "    block_id_lst = []\n",
    "    mobiles_poiblock1_id_lst = []\n",
    "    # 查找每个mobile.poiblock1的对应id\n",
    "    for index,i in enumerate(range(len(prob_matching))):\n",
    "        block = prob_matching.loc[i,]['room_id.block']\n",
    "        block_id = sub_info[sub_info['name']==block]['id'].values[0]\n",
    "        try:\n",
    "            # 得到每条数据的推荐商圈名，根据名称去sub_info里面查找\n",
    "            mobiles_poiblock1 = prob_matching.loc[i,]['mobiles.poiblock1']\n",
    "            mobiles_poiblock1_id = sub_info[sub_info['name']==mobiles_poiblock1]['id'].values[0]\n",
    "        except:\n",
    "            # 填写非地铁站用mobiles.app_poiblock1中代替,例如大运河，都查不到则用*替代\n",
    "            mobiles_poiblock1 = prob_matching.loc[i,]['mobiles.app_poiblock1']\n",
    "            tmp = sub_info[sub_info['name']==mobiles_poiblock1]['id']\n",
    "            # 虎泉 测试\n",
    "            if len(tmp)==0:\n",
    "#                 continue\n",
    "                mobiles_poiblock1_id = '*'\n",
    "            else:\n",
    "                mobiles_poiblock1_id = tmp.values[0]\n",
    "#         print(mobiles_poiblock1,mobiles_poiblock1_id)\n",
    "        block_id_lst.append(block_id)\n",
    "        mobiles_poiblock1_id_lst.append(mobiles_poiblock1_id)\n",
    "    assert len(block_id_lst)==len(mobiles_poiblock1_id_lst),'BUG IN get_both_id()!'\n",
    "    return zip(block_id_lst,mobiles_poiblock1_id_lst)"
   ]
  },
  {
   "cell_type": "code",
   "execution_count": 93,
   "metadata": {},
   "outputs": [],
   "source": [
    "# 通过两个id来找到得到的subs_num\n",
    "def get_subs_num(ziped_id,sub2sub):\n",
    "    subs_num_lst = []\n",
    "    for x,y in ziped_id:\n",
    "        # 通过两个id进行查找\n",
    "        print(x,y)\n",
    "        if x==y:\n",
    "            subs_num = 0\n",
    "        elif x=='*' or y=='*':\n",
    "            subs_num = 'subways中未查到地铁'\n",
    "        else:\n",
    "            tmp = sub2sub[(sub2sub['sub1']==int(x)) & (sub2sub['sub2']==int(y))]\n",
    "            if len(tmp)==0:\n",
    "                tmp = sub2sub[(sub2sub['sub1']==int(y)) & (sub2sub['sub2']==int(x))]\n",
    "            try:subs_num = tmp['nums'].values[0]\n",
    "            except:subs_num = 'subway_station中未能查到地铁'\n",
    "        print(subs_num)\n",
    "        subs_num_lst.append(subs_num)\n",
    "    return subs_num_lst"
   ]
  },
  {
   "cell_type": "code",
   "execution_count": 96,
   "metadata": {
    "scrolled": true
   },
   "outputs": [
    {
     "name": "stdout",
     "output_type": "stream",
     "text": [
      "71 59\n",
      "5\n",
      "217 71\n",
      "3\n",
      "38 38\n",
      "0\n",
      "220 134\n",
      "17\n",
      "1738 159\n",
      "5\n",
      "61 274\n",
      "5\n",
      "208 1433\n",
      "3\n",
      "1698 59\n",
      "subway_station中未能查到地铁\n",
      "72 221\n",
      "3\n",
      "68 168\n",
      "7\n",
      "146 125\n",
      "10\n",
      "71 236\n",
      "22\n",
      "244 61\n",
      "10\n",
      "1700 64\n",
      "subway_station中未能查到地铁\n",
      "41 123\n",
      "16\n",
      "223 95\n",
      "18\n",
      "1430 111\n",
      "11\n",
      "71 220\n",
      "4\n",
      "1048 70\n",
      "9\n",
      "126 149\n",
      "8\n",
      "244 *\n",
      "subways中未查到地铁\n",
      "268 94\n",
      "2\n",
      "71 1048\n",
      "10\n",
      "122 63\n",
      "15\n",
      "151 261\n",
      "5\n",
      "39 237\n",
      "18\n",
      "37 34\n",
      "3\n",
      "126 120\n",
      "6\n",
      "110 169\n",
      "3\n",
      "1051 1046\n",
      "4\n",
      "279 38\n",
      "13\n",
      "108 105\n",
      "3\n",
      "126 123\n",
      "3\n",
      "126 149\n",
      "8\n",
      "124 236\n",
      "4\n",
      "107 95\n",
      "12\n",
      "217 73\n",
      "4\n",
      "156 180\n",
      "2\n",
      "237 270\n",
      "18\n",
      "124 120\n",
      "4\n",
      "217 62\n",
      "6\n",
      "179 184\n",
      "4\n",
      "72 196\n",
      "3\n",
      "159 44\n",
      "4\n",
      "108 99\n",
      "9\n",
      "76 240\n",
      "4\n",
      "6 74\n",
      "16\n",
      "283 63\n",
      "18\n",
      "62 59\n",
      "3\n",
      "240 32\n",
      "11\n",
      "1051 257\n",
      "30\n",
      "35 247\n",
      "23\n",
      "35 121\n",
      "8\n",
      "99 38\n",
      "22\n",
      "270 134\n",
      "4\n",
      "279 75\n",
      "7\n",
      "244 278\n",
      "9\n",
      "237 122\n",
      "5\n",
      "1051 194\n",
      "18\n",
      "1051 169\n",
      "13\n",
      "1713 1430\n",
      "9\n",
      "206 32\n",
      "31\n",
      "125 122\n",
      "3\n",
      "124 1738\n",
      "14\n",
      "125 42\n",
      "19\n",
      "71 938\n",
      "12\n",
      "134 163\n",
      "3\n",
      "71 139\n",
      "4\n",
      "282 124\n",
      "8\n",
      "63 26\n",
      "11\n",
      "181 1746\n",
      "19\n",
      "1738 44\n",
      "4\n",
      "236 40\n",
      "20\n",
      "121 6\n",
      "16\n",
      "236 236\n",
      "0\n",
      "61 253\n",
      "5\n",
      "196 73\n",
      "4\n",
      "196 1048\n",
      "12\n",
      "176 265\n",
      "7\n",
      "152 17\n",
      "4\n",
      "258 233\n",
      "17\n",
      "108 103\n",
      "5\n",
      "61 121\n",
      "12\n",
      "132 106\n",
      "17\n",
      "171 134\n",
      "6\n",
      "169 135\n",
      "7\n",
      "96 180\n",
      "6\n",
      "200 129\n",
      "3\n",
      "96 23\n",
      "9\n",
      "35 39\n",
      "4\n",
      "98 95\n",
      "3\n",
      "238 183\n",
      "27\n",
      "184 181\n",
      "3\n",
      "95 134\n",
      "8\n",
      "42 205\n",
      "40\n",
      "201 129\n",
      "4\n",
      "176 11\n",
      "13\n",
      "77 70\n",
      "10\n",
      "217 221\n",
      "4\n",
      "122 40\n",
      "14\n",
      "284 131\n",
      "13\n",
      "True\n"
     ]
    }
   ],
   "source": [
    "zip1 = get_both_id(prob_matching,sub_info)\n",
    "# for x,y in zip1:print(x,y)\n",
    "subs_num_lst = get_subs_num(zip1,sub2sub)\n",
    "print(len(subs_num_lst)==len(prob_matching))"
   ]
  },
  {
   "cell_type": "code",
   "execution_count": 103,
   "metadata": {},
   "outputs": [],
   "source": [
    "prob_matching['subs_num'] = subs_num_lst\n",
    "prob_matching.to_csv('df_al_block200_addnums.csv',index=0,na_rep='NA')`"
   ]
  },
  {
   "cell_type": "code",
   "execution_count": null,
   "metadata": {},
   "outputs": [],
   "source": [
    "prob_matching['subs_num'] = subs_num_lst\n",
    "prob_matching.to_csv('df_al_block200_addnums.csv',index=0,na_rep='NA')\n",
    "zip1 = get_both_id(prob_matcing,sub_info)\n",
    "# for x,y in zip2:print(x,y)\n",
    "subs_num_lst = get_subs_num(zip1,sub2sub)\n",
    "print(len(subs_num_lst)==len(prob_matching))"
   ]
  }
 ],
 "metadata": {
  "kernelspec": {
   "display_name": "Python 3",
   "language": "python",
   "name": "python3"
  },
  "language_info": {
   "codemirror_mode": {
    "name": "ipython",
    "version": 3
   },
   "file_extension": ".py",
   "mimetype": "text/x-python",
   "name": "python",
   "nbconvert_exporter": "python",
   "pygments_lexer": "ipython3",
   "version": "3.6.5"
  }
 },
 "nbformat": 4,
 "nbformat_minor": 2
}
